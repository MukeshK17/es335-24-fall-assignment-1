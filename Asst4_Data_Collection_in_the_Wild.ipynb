{
 "cells": [
  {
   "cell_type": "markdown",
   "id": "00a8b4cc",
   "metadata": {},
   "source": [
    "### Setup"
   ]
  },
  {
   "cell_type": "code",
   "execution_count": 44,
   "id": "56742eb2",
   "metadata": {},
   "outputs": [
    {
     "name": "stdout",
     "output_type": "stream",
     "text": [
      "Wild data shape:  (18, 500, 3)\n"
     ]
    }
   ],
   "source": [
    "import numpy as np\n",
    "import pandas as pd\n",
    "from sklearn.tree import DecisionTreeClassifier\n",
    "from sklearn.metrics import accuracy_score, precision_score, recall_score, confusion_matrix\n",
    "from sklearn.model_selection import train_test_split\n",
    "import matplotlib.pyplot as plt\n",
    "import tsfel\n",
    "import os\n",
    "import pickle as pkl\n",
    "import seaborn as sns\n",
    "from scipy.stats import kurtosis, skew\n",
    "import math\n",
    "\n",
    "# Constants\n",
    "time = 10\n",
    "offset = 100\n",
    "folders = [\"LAYING\",\"SITTING\",\"STANDING\",\"WALKING\",\"WALKING_DOWNSTAIRS\",\"WALKING_UPSTAIRS\"]\n",
    "classes = {\"WALKING\":1,\"WALKING_UPSTAIRS\":2,\"WALKING_DOWNSTAIRS\":3,\"SITTING\":4,\"STANDING\":5,\"LAYING\":6}\n",
    "\n",
    "dir = os.path.join(\"./HAR/Wild Data\")\n",
    "\n",
    "X = []\n",
    "y = []\n",
    "\n",
    "for folder in folders:\n",
    "    files = os.listdir(os.path.join(dir,folder))\n",
    "\n",
    "    for file in files:\n",
    "\n",
    "        df = pd.read_csv(os.path.join(dir,folder,file),sep=\",\",header=0)\n",
    "        df = df[offset:offset+time*50]\n",
    "        X.append(df.values)\n",
    "        y.append(classes[folder])\n",
    "\n",
    "X = np.array(X)\n",
    "y = np.array(y)\n",
    "\n",
    "print(\"Wild data shape: \",X.shape)"
   ]
  },
  {
   "cell_type": "markdown",
   "id": "cc540a7f",
   "metadata": {},
   "source": [
    "### Decision Tree trained on Raw Acceleration Data"
   ]
  },
  {
   "cell_type": "code",
   "execution_count": 19,
   "id": "12eb3f16",
   "metadata": {},
   "outputs": [
    {
     "name": "stdout",
     "output_type": "stream",
     "text": [
      "Raw Accelerometer Data Shape (18, 500, 3)\n",
      "Accuracy of raw acc. data: 0.1111\n",
      "precision: 0.6905\n",
      "recall: 0.1111\n"
     ]
    },
    {
     "data": {
      "image/png": "[encoded data removed]",
      "text/plain": [
       "<Figure size 800x600 with 1 Axes>"
      ]
     },
     "metadata": {},
     "output_type": "display_data"
    }
   ],
   "source": [
    "seed = 4\n",
    "\n",
    "X_raw  = np.square(X[:, :, 0])+np.square(X[:, :, 1])+np.square(X[:, :, 2])\n",
    "\n",
    "X_raw = pd.DataFrame(np.sqrt(X_raw))\n",
    "\n",
    "print(\"Raw Accelerometer Data Shape\",X.shape)\n",
    "\n",
    "raw_clf = pkl.load(open(\"HAR/Models/raw_clf.pkl\",'rb'))\n",
    "\n",
    "y_raw_pred = raw_clf.predict(X_raw)\n",
    "\n",
    "accuracy = accuracy_score(y, y_raw_pred)\n",
    "precision = precision_score(y, y_raw_pred, average='weighted',zero_division=1)\n",
    "recall = recall_score(y, y_raw_pred, average='weighted')\n",
    "cm = confusion_matrix(y, y_raw_pred)\n",
    "\n",
    "print(f\"Accuracy of raw acc. data: {accuracy:<.4f}\")\n",
    "print(f\"precision: {precision:<.4f}\")\n",
    "print(f\"recall: {recall:<.4f}\")\n",
    "\n",
    "plt.figure(figsize=(8, 6))\n",
    "sns.heatmap(cm, annot=True, fmt=\"d\", cmap=\"Blues\", cbar=False, annot_kws={\"size\": 16})\n",
    "plt.title(\"Confusion Matrix\")\n",
    "plt.ylabel(\"Actual\")\n",
    "plt.xlabel(\"Predicted\")\n",
    "plt.show()"
   ]
  },
  {
   "cell_type": "markdown",
   "id": "46141e5d",
   "metadata": {},
   "source": [
    "### Decision Tree trained on Featurised Acceleration Data"
   ]
  },
  {
   "cell_type": "code",
   "execution_count": 36,
   "id": "54e00265",
   "metadata": {},
   "outputs": [],
   "source": [
    "def extract_row_features(row, cfg):\n",
    "    return tsfel.time_series_features_extractor(cfg, row)\n",
    "\n",
    "def extract_features(df, cfg):\n",
    "    features_list = []\n",
    "    for i in range(df.shape[0]):\n",
    "        row_features = extract_row_features(df.iloc[i], cfg)\n",
    "        features_list.append(row_features)\n",
    "    features_df = pd.concat(features_list, ignore_index=True)\n",
    "    return features_df\n",
    "\n",
    "def compute_features(row):\n",
    "    x = np.array(row)\n",
    "    features = {\n",
    "        'Max': np.max(x),\n",
    "        'Min': np.min(x),\n",
    "        'Mean': np.mean(x),\n",
    "        'Median': np.median(x),\n",
    "        'Standard Deviation': np.std(x),\n",
    "        'Variance': np.var(x),\n",
    "        'Kurtosis': kurtosis(x),\n",
    "        'Skewness': skew(x),\n",
    "        'Root Mean Square': np.sqrt(np.mean(x**2)),\n",
    "    }    \n",
    "    return pd.Series(features)"
   ]
  },
  {
   "cell_type": "code",
   "execution_count": null,
   "id": "11a27ffc",
   "metadata": {},
   "outputs": [],
   "source": [
    "cgf = tsfel.get_features_by_domain()\n",
    "\n",
    "features_df = extract_features(X_raw, cgf)\n",
    "features_new = X_raw.apply(compute_features, axis=1)\n",
    "\n",
    "X_tsfel_all = pd.concat([features_df, features_new], axis=1)\n",
    "\n",
    "tsfel_clf = pkl.load(open(\"HAR/Models/tsfel_clf.pkl\",'rb'))\n",
    "\n",
    "y_tsfel = tsfel_clf.predict(X_tsfel_all)\n",
    "\n",
    "accuracy = accuracy_score(y, y_tsfel)\n",
    "precision = precision_score(y, y_tsfel, average='weighted',zero_division=1)\n",
    "recall = recall_score(y, y_tsfel, average='weighted')\n",
    "cm = confusion_matrix(y, y_tsfel)"
   ]
  },
  {
   "cell_type": "code",
   "execution_count": 43,
   "id": "ad05269e",
   "metadata": {},
   "outputs": [
    {
     "name": "stdout",
     "output_type": "stream",
     "text": [
      "Accuracy of featurised acc. data: 0.1667\n",
      "precision: 0.7000\n",
      "recall: 0.1667\n"
     ]
    },
    {
     "data": {
      "image/png": "[encoded data removed]",
      "text/plain": [
       "<Figure size 800x600 with 1 Axes>"
      ]
     },
     "metadata": {},
     "output_type": "display_data"
    }
   ],
   "source": [
    "print(f\"Accuracy of featurised acc. data: {accuracy:<.4f}\")\n",
    "print(f\"precision: {precision:<.4f}\")\n",
    "print(f\"recall: {recall:<.4f}\")\n",
    "\n",
    "plt.figure(figsize=(8, 6))\n",
    "sns.heatmap(cm, annot=True, fmt=\"d\", cmap=\"Blues\", cbar=False, annot_kws={\"size\": 16})\n",
    "plt.title(\"Confusion Matrix\")\n",
    "plt.ylabel(\"Actual\")\n",
    "plt.xlabel(\"Predicted\")\n",
    "plt.show()"
   ]
  },
  {
   "cell_type": "markdown",
   "id": "3b0c0c34",
   "metadata": {},
   "source": [
    "In both the cases with Decision tree trained on Raw acceleration data and Decision tree trained on Featurized acceleration data, the models perform very poorly with low accuracies."
   ]
  },
  {
   "cell_type": "markdown",
   "id": "a59718ee",
   "metadata": {},
   "source": [
    "### Few shot with UCI Dataset"
   ]
  },
  {
   "cell_type": "code",
   "execution_count": 52,
   "id": "171b7302",
   "metadata": {},
   "outputs": [
    {
     "name": "stdout",
     "output_type": "stream",
     "text": [
      "Testing Data Shape (18, 393)\n"
     ]
    }
   ],
   "source": [
    "from langchain_groq.chat_models import ChatGroq\n",
    "\n",
    "# Available Models\n",
    "groq_models = {\n",
    "    \"llama3-70b\": \"llama3-70b-8192\",\n",
    "    \"gemma-7b\": \"gemma-7b-it\",\n",
    "    \"llama3.1-70b\":\"llama-3.1-70b-versatile\",\n",
    "    \"llama3-8b\":\"llama3-8b-8192\"\n",
    "    }\n",
    "model = groq_models[\"llama3-70b\"]\n",
    "\n",
    "# Constants\n",
    "GROQ_API_KEY = os.environ.get(\"GROQ_API_KEY\")\n",
    "green = \"\\x1b[32;40m\"\n",
    "red =   \"\\x1b[31;40m\"\n",
    "reset = \"\\x1b[0m\"       # color reset\n",
    "classes = {\"WALKING\":1,\"WALKING_UPSTAIRS\":2,\"WALKING_DOWNSTAIRS\":3,\"SITTING\":4,\"STANDING\":5,\"LAYING\":6}\n",
    "folders = list(classes.keys())\n",
    "\n",
    "X_train = np.loadtxt(\"./HAR/UCI HAR Dataset/train/X_train.txt\")\n",
    "y_train = np.loadtxt(\"./HAR/UCI HAR Dataset/train/y_train.txt\",dtype=np.int32)\n",
    "X_test = X_tsfel_all\n",
    "y_test = y\n",
    "\n",
    "features = pd.read_csv(\"./HAR/UCI HAR Dataset/features.txt\",sep=\"\\s+\",header=None)[1]\n",
    "\n",
    "X_train = pd.DataFrame(X_train,columns=features)\n",
    "\n",
    "print(\"Testing Data Shape\",X_test.shape)\n",
    "\n",
    "X_examples = []\n",
    "y_examples = []\n",
    "\n",
    "for i in range(len(X_train)):\n",
    "    if y_train[i] not in y_examples:\n",
    "        X_examples.append(X_train.iloc[i,:])\n",
    "        y_examples.append(y_train[i])\n",
    "\n",
    "examples = \"\\n\".join([f\"EXAMPLE {i} DATA :\\n{X_examples[i]}\\nEXAMPLE {i} LABEL : {folders[y_examples[i]-1]}\" for i in range(len(X_examples))])\n",
    "\n",
    "few_shot_prompt = lambda data:f\"\"\"\n",
    "* You are HAR tool.\n",
    "* Your task is to analyze the provided labeled featurised 3-axis accelerometer data and learn the patterns associated with the label in order to identify unlabeled data.\n",
    "* Only give output in one word and do not provide any explanation.\n",
    "{examples}\n",
    "\n",
    "TEST DATA: {data}\n",
    "LABEL for TEST DATA: ?\n",
    "\"\"\""
   ]
  },
  {
   "cell_type": "code",
   "execution_count": 53,
   "id": "d6150357",
   "metadata": {},
   "outputs": [
    {
     "name": "stdout",
     "output_type": "stream",
     "text": [
      "llama3-70b-8192: Test case #17  Output: \u001b[31;40mWALKING            \u001b[0mActual: WALKING_UPSTAIRS     Correct:3\n",
      "\n",
      "Model:               llama3-70b-8192\n",
      "Total Test Cases:    18\n",
      "Correct Predictions: 3\n",
      "Accuracy:            0.17\n",
      "\n"
     ]
    }
   ],
   "source": [
    "few_shot_correct_count = 0\n",
    "\n",
    "llm = ChatGroq(model=model, api_key=GROQ_API_KEY, temperature=0)\n",
    "few_shot_ans = []\n",
    "\n",
    "for i in range(len(X_test)):\n",
    "\n",
    "    query = few_shot_prompt(X_test.loc[i,:])\n",
    "    ans = llm.invoke(query).content\n",
    "    few_shot_ans.append(ans)\n",
    "    \n",
    "    if(ans==folders[y_test[i]-1]):\n",
    "        few_shot_correct_count+=1\n",
    "        color = green\n",
    "    else:\n",
    "        color = red\n",
    "    few_shot_ans.append(ans)\n",
    "    \n",
    "    print(f\"\\r{model:<15}: Test case #{i:<3} Output: {color}{ans:<18} {reset}Actual: {folders[y_test[i]-1]:<20} Correct:{few_shot_correct_count}\",end=\"\")\n",
    "\n",
    "print()\n",
    "print(f\"\"\"\n",
    "Model:               {model}\n",
    "Total Test Cases:    {len(X_test)}\n",
    "Correct Predictions: {few_shot_correct_count}\n",
    "Accuracy:            {few_shot_correct_count/(len(X_test)):.2f}\n",
    "\"\"\")"
   ]
  },
  {
   "cell_type": "markdown",
   "id": "af8e1b6c",
   "metadata": {},
   "source": [
    "### Few Shot with Wild Data"
   ]
  },
  {
   "cell_type": "code",
   "execution_count": 62,
   "id": "2bc81d88",
   "metadata": {},
   "outputs": [
    {
     "name": "stdout",
     "output_type": "stream",
     "text": [
      "Training Data Shape (12, 393)\n",
      "Testing Data Shape (6, 393)\n"
     ]
    }
   ],
   "source": [
    "# split the data into training and testing sets. Change the seed value to obtain different random splits.\n",
    "seed = 100\n",
    "X_train,X_test,y_train,y_test = train_test_split(X_tsfel_all,y,test_size=0.3,random_state=seed,stratify=y)\n",
    "\n",
    "print(\"Training Data Shape\",X_train.shape)\n",
    "print(\"Testing Data Shape\",X_test.shape)\n",
    "\n",
    "X_examples = []\n",
    "y_examples = []\n",
    "\n",
    "for i in range(len(X_train)):\n",
    "    if y_train[i] not in y_examples:\n",
    "        X_examples.append(X_train.iloc[i,:])\n",
    "        y_examples.append(y_train[i])\n",
    "\n",
    "examples = \"\\n\".join([f\"EXAMPLE {i} DATA :\\n{X_examples[i]}\\nEXAMPLE {i} LABEL : {folders[y_examples[i]-1]}\" for i in range(len(X_examples))])\n",
    "\n",
    "few_shot_prompt = lambda data:f\"\"\"\n",
    "* You are HAR tool.\n",
    "* Your task is to analyze the provided labeled featurised 3-axis accelerometer data and learn the patterns associated with the label in order to identify unlabeled data.\n",
    "* Only give output in one word and do not provide any explanation.\n",
    "{examples}\n",
    "\n",
    "TEST DATA: {data}\n",
    "LABEL for TEST DATA: ?\n",
    "\"\"\""
   ]
  },
  {
   "cell_type": "code",
   "execution_count": 63,
   "id": "b9aa9e0d",
   "metadata": {},
   "outputs": [
    {
     "name": "stdout",
     "output_type": "stream",
     "text": [
      "llama3-70b-8192: Test case #5   Output: \u001b[31;40mWALKING            \u001b[0mActual: WALKING_DOWNSTAIRS   Correct:3\n",
      "\n",
      "Model:               llama3-70b-8192\n",
      "Total Test Cases:    6\n",
      "Correct Predictions: 3\n",
      "Accuracy:            0.50\n",
      "\n"
     ]
    }
   ],
   "source": [
    "few_shot_correct_count = 0\n",
    "\n",
    "llm = ChatGroq(model=model, api_key=GROQ_API_KEY, temperature=0)\n",
    "few_shot_ans = []\n",
    "\n",
    "for i in range(len(X_test)):\n",
    "\n",
    "    query = few_shot_prompt(X_test.iloc[i,:])\n",
    "    ans = llm.invoke(query).content\n",
    "    few_shot_ans.append(ans)\n",
    "    \n",
    "    if(ans==folders[y_test[i]-1]):\n",
    "        few_shot_correct_count+=1\n",
    "        color = green\n",
    "    else:\n",
    "        color = red\n",
    "    few_shot_ans.append(ans)\n",
    "\n",
    "    print(f\"\\r{model:<15}: Test case #{i:<3} Output: {color}{ans:<18} {reset}Actual: {folders[y_test[i]-1]:<20} Correct:{few_shot_correct_count}\",end=\"\")\n",
    "\n",
    "print()\n",
    "print(f\"\"\"\n",
    "Model:               {model}\n",
    "Total Test Cases:    {len(X_test)}\n",
    "Correct Predictions: {few_shot_correct_count}\n",
    "Accuracy:            {few_shot_correct_count/(len(X_test)):.2f}\n",
    "\"\"\")"
   ]
  }
 ],
 "metadata": {
  "kernelspec": {
   "display_name": "Python 3 (ipykernel)",
   "language": "python",
   "name": "python3"
  },
  "language_info": {
   "codemirror_mode": {
    "name": "ipython",
    "version": 3
   },
   "file_extension": ".py",
   "mimetype": "text/x-python",
   "name": "python",
   "nbconvert_exporter": "python",
   "pygments_lexer": "ipython3",
   "version": "3.11.2"
  }
 },
 "nbformat": 4,
 "nbformat_minor": 5
}
