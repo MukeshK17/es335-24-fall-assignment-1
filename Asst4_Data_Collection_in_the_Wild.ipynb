{
 "cells": [
  {
   "cell_type": "code",
   "execution_count": 7,
   "id": "56742eb2",
   "metadata": {},
   "outputs": [
    {
     "name": "stdout",
     "output_type": "stream",
     "text": [
      "Wild data shape:  18\n"
     ]
    }
   ],
   "source": [
    "import numpy as np\n",
    "import pandas as pd\n",
    "from sklearn.tree import DecisionTreeClassifier\n",
    "from sklearn.metrics import accuracy_score, precision_score, recall_score, confusion_matrix\n",
    "from sklearn.model_selection import train_test_split\n",
    "import matplotlib.pyplot as plt\n",
    "import tsfel\n",
    "import os\n",
    "import pickle as pkl\n",
    "\n",
    "# Constants\n",
    "time = 10\n",
    "offset = 100\n",
    "folders = [\"LAYING\",\"SITTING\",\"STANDING\",\"WALKING\",\"WALKING_DOWNSTAIRS\",\"WALKING_UPSTAIRS\"]\n",
    "classes = {\"WALKING\":1,\"WALKING_UPSTAIRS\":2,\"WALKING_DOWNSTAIRS\":3,\"SITTING\":4,\"STANDING\":5,\"LAYING\":6}\n",
    "\n",
    "dir = os.path.join(\"./HAR/Wild Data\")\n",
    "\n",
    "X = []\n",
    "y = []\n",
    "\n",
    "for folder in folders:\n",
    "    files = os.listdir(os.path.join(dir,folder))\n",
    "\n",
    "    for file in files:\n",
    "\n",
    "        df = pd.read_csv(os.path.join(dir,folder,file),sep=\",\",header=0)\n",
    "        df = df[offset:offset+time*50]\n",
    "        X.append(df.values)\n",
    "        y.append(classes[folder])\n",
    "\n",
    "print(\"Wild data shape: \",len(X))"
   ]
  },
  {
   "cell_type": "code",
   "execution_count": null,
   "id": "12eb3f16",
   "metadata": {},
   "outputs": [],
   "source": [
    "clf1 = pkl.load(\"raw.pkl\")\n",
    "\n",
    "y_pred1 = clf1.predict(X)\n",
    "\n",
    "\n",
    "accuracy = accuracy_score(y, y_pred1)\n",
    "precision = precision_score(y, y_pred1, average='weighted')\n",
    "recall = recall_score(y, y_pred1, average='weighted')\n",
    "cm = confusion_matrix(y, y_pred1)"
   ]
  },
  {
   "cell_type": "code",
   "execution_count": null,
   "id": "11a27ffc",
   "metadata": {},
   "outputs": [],
   "source": [
    "clf2 = pkl.load(\"tsfel.pkl\")\n",
    "\n",
    "y_pred1 = clf1.predict(X)\n",
    "\n",
    "\n",
    "accuracy = accuracy_score(y, y_pred1)\n",
    "precision = precision_score(y, y_pred1, average='weighted')\n",
    "recall = recall_score(y, y_pred1, average='weighted')\n",
    "cm = confusion_matrix(y, y_pred1)"
   ]
  },
  {
   "cell_type": "code",
   "execution_count": null,
   "id": "f9548f08",
   "metadata": {},
   "outputs": [],
   "source": [
    "clf3 = pkl.load(\"features.pkl\")\n",
    "\n",
    "y_pred1 = clf1.predict(X)\n",
    "\n",
    "\n",
    "accuracy = accuracy_score(y, y_pred1)\n",
    "precision = precision_score(y, y_pred1, average='weighted')\n",
    "recall = recall_score(y, y_pred1, average='weighted')\n",
    "cm = confusion_matrix(y, y_pred1)"
   ]
  },
  {
   "cell_type": "code",
   "execution_count": null,
   "id": "29ea1de8",
   "metadata": {},
   "outputs": [],
   "source": []
  }
 ],
 "metadata": {
  "kernelspec": {
   "display_name": "Python 3 (ipykernel)",
   "language": "python",
   "name": "python3"
  },
  "language_info": {
   "codemirror_mode": {
    "name": "ipython",
    "version": 3
   },
   "file_extension": ".py",
   "mimetype": "text/x-python",
   "name": "python",
   "nbconvert_exporter": "python",
   "pygments_lexer": "ipython3",
   "version": "3.11.2"
  }
 },
 "nbformat": 4,
 "nbformat_minor": 5
}
